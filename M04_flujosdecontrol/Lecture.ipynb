{
 "cells": [
  {
   "attachments": {},
   "cell_type": "markdown",
   "metadata": {},
   "source": [
    "Sintaxis de if:\n",
    "\n",
    "if condicion:\n",
    "    # Codigo que quiero que haga si la condicion es verdadera"
   ]
  },
  {
   "cell_type": "code",
   "execution_count": 3,
   "metadata": {},
   "outputs": [
    {
     "name": "stdout",
     "output_type": "stream",
     "text": [
      "El numero -5 es negativo\n"
     ]
    }
   ],
   "source": [
    "num= -5\n",
    "if num > 0:\n",
    "    print(f\"El numero {num} es positivo\")\n",
    "elif num < 0:\n",
    "    print(f\"El numero {num} es negativo\")\n",
    "else:\n",
    "    print(\"El numero es cero\")"
   ]
  }
 ],
 "metadata": {
  "kernelspec": {
   "display_name": "Python 3",
   "language": "python",
   "name": "python3"
  },
  "language_info": {
   "codemirror_mode": {
    "name": "ipython",
    "version": 3
   },
   "file_extension": ".py",
   "mimetype": "text/x-python",
   "name": "python",
   "nbconvert_exporter": "python",
   "pygments_lexer": "ipython3",
   "version": "3.11.3"
  },
  "orig_nbformat": 4
 },
 "nbformat": 4,
 "nbformat_minor": 2
}
