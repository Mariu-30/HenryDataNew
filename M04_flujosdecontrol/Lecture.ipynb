{
 "cells": [
  {
   "attachments": {},
   "cell_type": "markdown",
   "metadata": {},
   "source": [
    "Sintaxis de if:\n",
    "\n",
    "if condicion:\n",
    "    # Codigo que quiero que haga si la condicion es verdadera"
   ]
  },
  {
   "cell_type": "code",
   "execution_count": 4,
   "metadata": {},
   "outputs": [
    {
     "name": "stdout",
     "output_type": "stream",
     "text": [
      "El numero -5 es negativo\n",
      "Entramos en elif\n"
     ]
    }
   ],
   "source": [
    "num= -5\n",
    "if num > 0:\n",
    "    print(f\"El numero {num} es positivo\")\n",
    "    print(\"Entramos en if\")\n",
    "elif num < 0:\n",
    "    print(f\"El numero {num} es negativo\")\n",
    "    print(\"Entramos en elif\")\n",
    "else:\n",
    "    print(\"El numero es cero\")\n",
    "    print(\"Entramos en else\")"
   ]
  },
  {
   "cell_type": "code",
   "execution_count": 5,
   "metadata": {},
   "outputs": [
    {
     "name": "stdout",
     "output_type": "stream",
     "text": [
      "El numero 4 es positivo\n",
      "Entramos en if\n"
     ]
    }
   ],
   "source": [
    "num= 4\n",
    "if num > 0:\n",
    "    print(f\"El numero {num} es positivo\")\n",
    "    print(\"Entramos en if\")\n",
    "elif num < 0:\n",
    "    print(f\"El numero {num} es negativo\")\n",
    "    print(\"Entramos en elif\")\n",
    "else:\n",
    "    print(\"El numero es cero\")\n",
    "    print(\"Entramos en else\")"
   ]
  },
  {
   "cell_type": "code",
   "execution_count": 8,
   "metadata": {},
   "outputs": [
    {
     "name": "stdout",
     "output_type": "stream",
     "text": [
      "El numero es cero\n",
      "Entramos en 'else'\n"
     ]
    }
   ],
   "source": [
    "num= 0\n",
    "if num > 0:\n",
    "    print(f\"El numero {num} es positivo\")\n",
    "    print(\"Entramos en 'if'\")\n",
    "elif num < 0:\n",
    "    print(f\"El numero {num} es negativo\")\n",
    "    print(\"Entramos en 'elif'\")\n",
    "else:\n",
    "    print(\"El numero es cero\")\n",
    "    print(\"Entramos en 'else'\")"
   ]
  },
  {
   "attachments": {},
   "cell_type": "markdown",
   "metadata": {},
   "source": [
    "Ciclo For:\n",
    "for elemento in secuencia:\n",
    "    hace esto..."
   ]
  },
  {
   "cell_type": "code",
   "execution_count": 10,
   "metadata": {},
   "outputs": [
    {
     "name": "stdout",
     "output_type": "stream",
     "text": [
      "El numero es: 1\n",
      "El numero es: 2\n",
      "El numero es: 3\n",
      "El numero es: 4\n",
      "El numero es: 5\n",
      "El numero es: 6\n"
     ]
    }
   ],
   "source": [
    "lista_num= [1, 2, 3, 4, 5, 6]\n",
    "\n",
    "for num in lista_num:\n",
    "    print(f'El numero es: {num}')"
   ]
  }
 ],
 "metadata": {
  "kernelspec": {
   "display_name": "Python 3",
   "language": "python",
   "name": "python3"
  },
  "language_info": {
   "codemirror_mode": {
    "name": "ipython",
    "version": 3
   },
   "file_extension": ".py",
   "mimetype": "text/x-python",
   "name": "python",
   "nbconvert_exporter": "python",
   "pygments_lexer": "ipython3",
   "version": "3.11.3"
  },
  "orig_nbformat": 4
 },
 "nbformat": 4,
 "nbformat_minor": 2
}
