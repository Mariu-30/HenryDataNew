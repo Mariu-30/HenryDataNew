{
 "cells": [
  {
   "attachments": {},
   "cell_type": "markdown",
   "metadata": {},
   "source": [
    "## Flujos de Control"
   ]
  },
  {
   "attachments": {},
   "cell_type": "markdown",
   "metadata": {},
   "source": [
    "1) Crear una variable que contenga un elemento del conjunto de números enteros y luego imprimir por pantalla si es mayor o menor a cero"
   ]
  },
  {
   "cell_type": "code",
   "execution_count": 6,
   "metadata": {},
   "outputs": [
    {
     "name": "stdout",
     "output_type": "stream",
     "text": [
      "Es menor a cero\n"
     ]
    }
   ],
   "source": [
    "x= 5\n",
    "if x>0:\n",
    "    print(\"Es mayor a cero\")\n",
    "elif x<0:\n",
    "    print(\"Es menor a cero\")\n",
    "else:\n",
    "    print(\"Es igual a cero\")\n",
    "    "
   ]
  },
  {
   "attachments": {},
   "cell_type": "markdown",
   "metadata": {},
   "source": [
    "2) Crear dos variables y un condicional que informe si son del mismo tipo de dato"
   ]
  },
  {
   "cell_type": "code",
   "execution_count": 10,
   "metadata": {},
   "outputs": [
    {
     "name": "stdout",
     "output_type": "stream",
     "text": [
      "son del mismo tipo\n"
     ]
    }
   ],
   "source": [
    "x=\"pedro\"\n",
    "a= \"hola\"\n",
    "if type(x)==type(a):\n",
    "    print(\"son del mismo tipo\")\n",
    "else:\n",
    "    print(\"son de diferente tipo\")"
   ]
  },
  {
   "attachments": {},
   "cell_type": "markdown",
   "metadata": {},
   "source": [
    "3) Para los valores enteros del 1 al 20, imprimir por pantalla si es par o impar"
   ]
  },
  {
   "cell_type": "code",
   "execution_count": 15,
   "metadata": {},
   "outputs": [
    {
     "name": "stdout",
     "output_type": "stream",
     "text": [
      "1  es impar\n",
      "2  es par\n",
      "3  es impar\n",
      "4  es par\n",
      "5  es impar\n",
      "6  es par\n",
      "7  es impar\n",
      "8  es par\n",
      "9  es impar\n",
      "10  es par\n",
      "11  es impar\n",
      "12  es par\n",
      "13  es impar\n",
      "14  es par\n",
      "15  es impar\n",
      "16  es par\n",
      "17  es impar\n",
      "18  es par\n",
      "19  es impar\n",
      "20  es par\n"
     ]
    }
   ],
   "source": [
    "n=20\n",
    "for i in range(1,n+1):\n",
    "    if i%2 == 0:\n",
    "        print(i, \" es par\")\n",
    "    else:\n",
    "        print(i, \" es impar\")"
   ]
  },
  {
   "attachments": {},
   "cell_type": "markdown",
   "metadata": {},
   "source": [
    "4) En un ciclo for mostrar para los valores entre 0 y 5 el resultado de elevarlo a la potencia igual a 3"
   ]
  },
  {
   "cell_type": "code",
   "execution_count": 29,
   "metadata": {},
   "outputs": [
    {
     "name": "stdout",
     "output_type": "stream",
     "text": [
      "0  a la 3 es  0\n",
      "1  a la 3 es  1\n",
      "2  a la 3 es  8\n",
      "3  a la 3 es  27\n",
      "4  a la 3 es  64\n",
      "5  a la 3 es  125\n"
     ]
    }
   ],
   "source": [
    "n=5\n",
    "for i in range(6):\n",
    "    print(i, \" a la 3 es \", i**3)"
   ]
  },
  {
   "attachments": {},
   "cell_type": "markdown",
   "metadata": {},
   "source": [
    "5) Crear una variable que contenga un número entero y realizar un ciclo for la misma cantidad de ciclos"
   ]
  },
  {
   "cell_type": "code",
   "execution_count": 20,
   "metadata": {},
   "outputs": [
    {
     "name": "stdout",
     "output_type": "stream",
     "text": [
      "4\n"
     ]
    }
   ],
   "source": [
    "b=5\n",
    "for i in range(1,b):\n",
    "    pass\n",
    "print(i)"
   ]
  },
  {
   "attachments": {},
   "cell_type": "markdown",
   "metadata": {},
   "source": [
    "6) Utilizar un ciclo while para realizar el factorial de un número guardado en una variable, sólo si la variable contiene un número entero mayor a 0"
   ]
  },
  {
   "cell_type": "code",
   "execution_count": 26,
   "metadata": {},
   "outputs": [
    {
     "name": "stdout",
     "output_type": "stream",
     "text": [
      "0\n"
     ]
    }
   ],
   "source": [
    "x= 5\n",
    "while (n>0):\n",
    "    n=x-1\n",
    "    fact=x*n\n",
    "    x-=1\n",
    "print(fact)\n",
    "    "
   ]
  },
  {
   "attachments": {},
   "cell_type": "markdown",
   "metadata": {},
   "source": [
    "7) Crear un ciclo for dentro de un ciclo while"
   ]
  },
  {
   "cell_type": "code",
   "execution_count": null,
   "metadata": {},
   "outputs": [],
   "source": []
  },
  {
   "attachments": {},
   "cell_type": "markdown",
   "metadata": {},
   "source": [
    "8) Crear un ciclo while dentro de un ciclo for"
   ]
  },
  {
   "cell_type": "code",
   "execution_count": null,
   "metadata": {},
   "outputs": [],
   "source": []
  },
  {
   "attachments": {},
   "cell_type": "markdown",
   "metadata": {},
   "source": [
    "9) Imprimir los números primos existentes entre 0 y 30"
   ]
  },
  {
   "cell_type": "code",
   "execution_count": 8,
   "metadata": {},
   "outputs": [
    {
     "name": "stdout",
     "output_type": "stream",
     "text": [
      "2\n",
      "3\n",
      "5\n",
      "7\n",
      "11\n",
      "13\n",
      "17\n",
      "19\n",
      "23\n",
      "29\n",
      "cantidad de ciclos: 406\n"
     ]
    }
   ],
   "source": [
    "tope=30\n",
    "n=2\n",
    "primo=True\n",
    "ciclos_sin_break=0\n",
    "while n<= tope:\n",
    "    for div in range(2,n):\n",
    "        ciclos_sin_break += 1\n",
    "        resto= n%div\n",
    "        if resto == 0:\n",
    "            primo= False\n",
    "    if primo:\n",
    "        print(n)\n",
    "    else:\n",
    "        primo=True\n",
    "    n += 1\n",
    "print(\"cantidad de ciclos: \" + str(ciclos_sin_break))"
   ]
  },
  {
   "attachments": {},
   "cell_type": "markdown",
   "metadata": {},
   "source": [
    "10) ¿Se puede mejorar el proceso del punto 9? Utilizar las sentencias break y/ó continue para tal fin"
   ]
  },
  {
   "cell_type": "code",
   "execution_count": 5,
   "metadata": {},
   "outputs": [
    {
     "name": "stdout",
     "output_type": "stream",
     "text": [
      "2\n",
      "3\n",
      "5\n",
      "7\n",
      "11\n",
      "13\n",
      "17\n",
      "19\n",
      "23\n",
      "29\n",
      "cantidad de ciclos: 135\n"
     ]
    }
   ],
   "source": [
    "tope=30\n",
    "n=2\n",
    "primo=True\n",
    "ciclos_con_break=0\n",
    "while n<= tope:\n",
    "    for div in range(2,n):\n",
    "        ciclos_con_break += 1\n",
    "        resto= n%div\n",
    "        if resto == 0:\n",
    "            primo= False\n",
    "            break  # si encuentra que resto=0 para la ejecucion porque encontró ya que es primo, se ahorra las demas iteraciones\n",
    "    if primo:\n",
    "        print(n)\n",
    "    else:\n",
    "        primo=True\n",
    "    n += 1\n",
    "print(\"cantidad de ciclos: \" + str(ciclos_con_break))"
   ]
  },
  {
   "attachments": {},
   "cell_type": "markdown",
   "metadata": {},
   "source": [
    "11) En los puntos 9 y 10, se diseño un código que encuentra números primos y además se lo optimizó. ¿Es posible saber en qué medida se optimizó?"
   ]
  },
  {
   "cell_type": "code",
   "execution_count": null,
   "metadata": {},
   "outputs": [],
   "source": []
  },
  {
   "attachments": {},
   "cell_type": "markdown",
   "metadata": {},
   "source": [
    "12) Si la cantidad de números que se evalúa es mayor a treinta, esa optimización crece?"
   ]
  },
  {
   "cell_type": "code",
   "execution_count": null,
   "metadata": {},
   "outputs": [],
   "source": []
  },
  {
   "attachments": {},
   "cell_type": "markdown",
   "metadata": {},
   "source": [
    "13) Aplicando continue, armar un ciclo while que solo imprima los valores divisibles por 12, dentro del rango de números de 100 a 300"
   ]
  },
  {
   "cell_type": "code",
   "execution_count": 11,
   "metadata": {},
   "outputs": [
    {
     "name": "stdout",
     "output_type": "stream",
     "text": [
      "108 es divisible por 12\n",
      "120 es divisible por 12\n",
      "132 es divisible por 12\n",
      "144 es divisible por 12\n",
      "156 es divisible por 12\n",
      "168 es divisible por 12\n",
      "180 es divisible por 12\n",
      "192 es divisible por 12\n",
      "204 es divisible por 12\n",
      "216 es divisible por 12\n",
      "228 es divisible por 12\n",
      "240 es divisible por 12\n",
      "252 es divisible por 12\n",
      "264 es divisible por 12\n",
      "276 es divisible por 12\n",
      "288 es divisible por 12\n",
      "300 es divisible por 12\n"
     ]
    }
   ],
   "source": [
    "n=99\n",
    "while n <= 300:\n",
    "    n += 1\n",
    "    resto = n%12\n",
    "    if resto !=0:\n",
    "        continue\n",
    "    print(f\"{n} es divisible por 12\")"
   ]
  },
  {
   "attachments": {},
   "cell_type": "markdown",
   "metadata": {},
   "source": [
    "14) Utilizar la función **input()** que permite hacer ingresos por teclado, para encontrar números primos y dar la opción al usario de buscar el siguiente"
   ]
  },
  {
   "cell_type": "code",
   "execution_count": 12,
   "metadata": {},
   "outputs": [
    {
     "name": "stdout",
     "output_type": "stream",
     "text": [
      "5\n",
      "<class 'int'>\n"
     ]
    }
   ],
   "source": [
    "# Ejemplo uso de input\n",
    "a= input(\"Ingrese un numero: \")\n",
    "a= int(a)\n",
    "print(a)\n",
    "print(type(a))"
   ]
  },
  {
   "cell_type": "code",
   "execution_count": 13,
   "metadata": {},
   "outputs": [
    {
     "name": "stdout",
     "output_type": "stream",
     "text": [
      "2\n",
      "Desea encontrar el siguiente primo? \n",
      "3\n",
      "Desea encontrar el siguiente primo? \n",
      "5\n",
      "Desea encontrar el siguiente primo? \n",
      "7\n",
      "Desea encontrar el siguiente primo? \n",
      "Finaliza la busqueda\n"
     ]
    }
   ],
   "source": [
    "\n",
    "n=2\n",
    "primo=True\n",
    "buscar_primo=True\n",
    "while buscar_primo:\n",
    "    for div in range(2,n):\n",
    "        resto= n%div\n",
    "        if resto == 0:\n",
    "            primo= False\n",
    "            break  # si encuentra que resto=0 para la ejecucion porque encontró ya que es primo, se ahorra las demas iteraciones\n",
    "    if primo:\n",
    "        print(n)\n",
    "        print(\"Desea encontrar el siguiente primo? \")\n",
    "        continuar=input(\"Ingrese si o no: \")\n",
    "        if continuar == 'no':\n",
    "            print(\"Finaliza la busqueda\")\n",
    "            buscar_primo=False\n",
    "    else:\n",
    "        primo=True\n",
    "    n += 1\n"
   ]
  },
  {
   "attachments": {},
   "cell_type": "markdown",
   "metadata": {},
   "source": [
    "15) Crear un ciclo while que encuentre dentro del rango de 100 a 300 el primer número divisible por 3 y además múltiplo de 6"
   ]
  },
  {
   "cell_type": "code",
   "execution_count": 15,
   "metadata": {},
   "outputs": [
    {
     "name": "stdout",
     "output_type": "stream",
     "text": [
      "El numero es: 102\n"
     ]
    }
   ],
   "source": [
    "n=100\n",
    "while (n<=300):\n",
    "    if n%6 == 0:  # si es multiplo de 6 es divisible por 3\n",
    "        print(f'El numero es: {n}')\n",
    "        break\n",
    "    n += 1"
   ]
  }
 ],
 "metadata": {
  "interpreter": {
   "hash": "c85384e4cb51c8b72350f3a8712cc8351fdc3955e32a27f9b60c6242ab125f01"
  },
  "kernelspec": {
   "display_name": "Python 3 (ipykernel)",
   "language": "python",
   "name": "python3"
  },
  "language_info": {
   "codemirror_mode": {
    "name": "ipython",
    "version": 3
   },
   "file_extension": ".py",
   "mimetype": "text/x-python",
   "name": "python",
   "nbconvert_exporter": "python",
   "pygments_lexer": "ipython3",
   "version": "3.11.4"
  }
 },
 "nbformat": 4,
 "nbformat_minor": 4
}
